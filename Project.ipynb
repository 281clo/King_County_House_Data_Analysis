{
 "cells": [
  {
   "cell_type": "markdown",
   "id": "awful-elite",
   "metadata": {},
   "source": [
    "- Choose Stakeholder: For whom are you performing this analysis\n",
    "- Business Understanding: at least 2 important parameters estimates as recomendations\n",
    "- Data Understanding: Whats in this data, how relevant is this data\n",
    "- Data Prep: Train/Test split, Nulls, Duplicates, Outlires, Log transformation, encoding variables (one-hot-encoding, binning), polynomial features, interation terms, SCALE\n",
    "- At least one non numaric feature included in a model\n",
    "- First simple model: what is your model-less baseline\n",
    "- Interactive Modeling: Iterate by adding complexity( more columns, different interations:\n",
    "- Each iteration of your model adheres to assumptions of liniear reg\n",
    "    Linear Relationship, low Multicollinearity(VIF), Normal dis of   Errors(Q-Qplot)(lower the score the more), Homoskedasticity of Errors\n",
    "- Interpreting models: check if your input variables are statistically significant. R2. "
   ]
  }
 ],
 "metadata": {
  "kernelspec": {
   "display_name": "Python 3",
   "language": "python",
   "name": "python3"
  },
  "language_info": {
   "codemirror_mode": {
    "name": "ipython",
    "version": 3
   },
   "file_extension": ".py",
   "mimetype": "text/x-python",
   "name": "python",
   "nbconvert_exporter": "python",
   "pygments_lexer": "ipython3",
   "version": "3.9.2"
  }
 },
 "nbformat": 4,
 "nbformat_minor": 5
}
